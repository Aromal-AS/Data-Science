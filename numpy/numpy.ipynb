{
 "cells": [
  {
   "cell_type": "code",
   "execution_count": 2,
   "id": "13c3602a",
   "metadata": {},
   "outputs": [
    {
     "data": {
      "text/plain": [
       "array([1, 2, 3])"
      ]
     },
     "execution_count": 2,
     "metadata": {},
     "output_type": "execute_result"
    }
   ],
   "source": [
    "import numpy as np\n",
    "mylist = [1,2,3]\n",
    "np.array(mylist)"
   ]
  },
  {
   "cell_type": "code",
   "execution_count": 8,
   "id": "f2e816fa",
   "metadata": {},
   "outputs": [
    {
     "data": {
      "text/plain": [
       "array([[1, 2, 3],\n",
       "       [4, 5, 6],\n",
       "       [7, 8, 9]])"
      ]
     },
     "execution_count": 8,
     "metadata": {},
     "output_type": "execute_result"
    }
   ],
   "source": [
    "my_matrix = [[1,2,3],[4,5,6],[7,8,9]]\n",
    "np.array(my_matrix)"
   ]
  },
  {
   "cell_type": "code",
   "execution_count": 14,
   "id": "4b3b3ae1",
   "metadata": {},
   "outputs": [
    {
     "data": {
      "text/plain": [
       "array([0, 1, 2, 3, 4, 5, 6, 7, 8, 9])"
      ]
     },
     "execution_count": 14,
     "metadata": {},
     "output_type": "execute_result"
    }
   ],
   "source": [
    "np.arange(0,10)"
   ]
  },
  {
   "cell_type": "code",
   "execution_count": 15,
   "id": "513c12c7",
   "metadata": {},
   "outputs": [
    {
     "data": {
      "text/plain": [
       "array([0, 2, 4, 6, 8])"
      ]
     },
     "execution_count": 15,
     "metadata": {},
     "output_type": "execute_result"
    }
   ],
   "source": [
    "# array generated with in the range and 2 as step size\n",
    "np.arange(0,10,2)"
   ]
  },
  {
   "cell_type": "code",
   "execution_count": 24,
   "id": "4dd94c1e",
   "metadata": {},
   "outputs": [
    {
     "data": {
      "text/plain": [
       "array([0., 0., 0.])"
      ]
     },
     "execution_count": 24,
     "metadata": {},
     "output_type": "execute_result"
    }
   ],
   "source": [
    "np.zeros(3)"
   ]
  },
  {
   "cell_type": "code",
   "execution_count": 34,
   "id": "0b0d8b81",
   "metadata": {},
   "outputs": [
    {
     "data": {
      "text/plain": [
       "array([1., 1., 1., 1., 1.])"
      ]
     },
     "execution_count": 34,
     "metadata": {},
     "output_type": "execute_result"
    }
   ],
   "source": [
    "np.ones(5)"
   ]
  },
  {
   "cell_type": "code",
   "execution_count": 39,
   "id": "170df6c2",
   "metadata": {},
   "outputs": [
    {
     "data": {
      "text/plain": [
       "array([[0., 0., 0., 0., 0.],\n",
       "       [0., 0., 0., 0., 0.],\n",
       "       [0., 0., 0., 0., 0.],\n",
       "       [0., 0., 0., 0., 0.],\n",
       "       [0., 0., 0., 0., 0.]])"
      ]
     },
     "execution_count": 39,
     "metadata": {},
     "output_type": "execute_result"
    }
   ],
   "source": [
    "np.zeros((5,5))"
   ]
  },
  {
   "cell_type": "code",
   "execution_count": 36,
   "id": "11fc046f",
   "metadata": {},
   "outputs": [
    {
     "data": {
      "text/plain": [
       "array([[1., 1., 1., 1., 1.],\n",
       "       [1., 1., 1., 1., 1.],\n",
       "       [1., 1., 1., 1., 1.],\n",
       "       [1., 1., 1., 1., 1.],\n",
       "       [1., 1., 1., 1., 1.]])"
      ]
     },
     "execution_count": 36,
     "metadata": {},
     "output_type": "execute_result"
    }
   ],
   "source": [
    "np.ones((5,5))"
   ]
  },
  {
   "cell_type": "code",
   "execution_count": 41,
   "id": "8d5b5a4e",
   "metadata": {},
   "outputs": [
    {
     "data": {
      "text/plain": [
       "array([ 0.,  5., 10.])"
      ]
     },
     "execution_count": 41,
     "metadata": {},
     "output_type": "execute_result"
    }
   ],
   "source": [
    "np.linspace(0,10,3)"
   ]
  },
  {
   "cell_type": "code",
   "execution_count": 48,
   "id": "a43af30a",
   "metadata": {},
   "outputs": [
    {
     "data": {
      "text/plain": [
       "array([  0.,  20.,  40.,  60.,  80., 100.])"
      ]
     },
     "execution_count": 48,
     "metadata": {},
     "output_type": "execute_result"
    }
   ],
   "source": [
    "np.linspace(0,100,6)"
   ]
  },
  {
   "cell_type": "code",
   "execution_count": 54,
   "id": "4db70def",
   "metadata": {},
   "outputs": [
    {
     "data": {
      "text/plain": [
       "array([[1., 0., 0., 0.],\n",
       "       [0., 1., 0., 0.],\n",
       "       [0., 0., 1., 0.],\n",
       "       [0., 0., 0., 1.]])"
      ]
     },
     "execution_count": 54,
     "metadata": {},
     "output_type": "execute_result"
    }
   ],
   "source": [
    "np.eye(4)"
   ]
  },
  {
   "cell_type": "code",
   "execution_count": 68,
   "id": "282a8b74",
   "metadata": {},
   "outputs": [
    {
     "data": {
      "text/plain": [
       "array([0.08908198, 0.9989637 ])"
      ]
     },
     "execution_count": 68,
     "metadata": {},
     "output_type": "execute_result"
    }
   ],
   "source": [
    "# methods for random number generation\n",
    "np.random.rand(2)"
   ]
  },
  {
   "cell_type": "code",
   "execution_count": 75,
   "id": "50b00d3c",
   "metadata": {},
   "outputs": [
    {
     "data": {
      "text/plain": [
       "array([[-1.41092695, -1.4942249 , -1.13869654, -0.14149084,  0.50007619],\n",
       "       [ 1.38185308, -0.30058867,  1.96702997, -1.25733385,  0.09717103],\n",
       "       [-0.88299342,  0.95659379,  0.16504307,  0.34269929,  0.08613701],\n",
       "       [ 0.87691278,  0.50791919, -1.13557425,  0.35732167,  0.16426436],\n",
       "       [-0.81620015, -0.19162295, -0.80616471, -0.67370147,  1.99529485]])"
      ]
     },
     "execution_count": 75,
     "metadata": {},
     "output_type": "execute_result"
    }
   ],
   "source": [
    "np.random.randn(5,5)"
   ]
  },
  {
   "cell_type": "code",
   "execution_count": 115,
   "id": "f827c1ba",
   "metadata": {},
   "outputs": [
    {
     "data": {
      "text/plain": [
       "5"
      ]
     },
     "execution_count": 115,
     "metadata": {},
     "output_type": "execute_result"
    }
   ],
   "source": [
    "# generate a random number between the specified range\n",
    "np.random.randint(0,10)"
   ]
  },
  {
   "cell_type": "code",
   "execution_count": 125,
   "id": "a51c1960",
   "metadata": {},
   "outputs": [
    {
     "data": {
      "text/plain": [
       "array([ 0,  1,  2,  3,  4,  5,  6,  7,  8,  9, 10, 11, 12, 13, 14, 15, 16,\n",
       "       17, 18, 19, 20, 21, 22, 23, 24])"
      ]
     },
     "execution_count": 125,
     "metadata": {},
     "output_type": "execute_result"
    }
   ],
   "source": [
    "arr = np.arange(25)\n",
    "arr"
   ]
  },
  {
   "cell_type": "code",
   "execution_count": 150,
   "id": "b308dc41",
   "metadata": {},
   "outputs": [
    {
     "data": {
      "text/plain": [
       "array([ 3, 13,  2, 22,  7, 22,  8,  9, 17, 13])"
      ]
     },
     "execution_count": 150,
     "metadata": {},
     "output_type": "execute_result"
    }
   ],
   "source": [
    "ranarr = np.random.randint(1,25,10)\n",
    "ranarr"
   ]
  },
  {
   "cell_type": "code",
   "execution_count": 143,
   "id": "87e78d0a",
   "metadata": {},
   "outputs": [
    {
     "data": {
      "text/plain": [
       "array([[ 0,  1,  2,  3,  4],\n",
       "       [ 5,  6,  7,  8,  9],\n",
       "       [10, 11, 12, 13, 14],\n",
       "       [15, 16, 17, 18, 19],\n",
       "       [20, 21, 22, 23, 24]])"
      ]
     },
     "execution_count": 143,
     "metadata": {},
     "output_type": "execute_result"
    }
   ],
   "source": [
    "arr.reshape(5,5)"
   ]
  },
  {
   "cell_type": "code",
   "execution_count": 145,
   "id": "a0eb0e0b",
   "metadata": {},
   "outputs": [
    {
     "data": {
      "text/plain": [
       "19"
      ]
     },
     "execution_count": 145,
     "metadata": {},
     "output_type": "execute_result"
    }
   ],
   "source": [
    "ranarr.max()"
   ]
  },
  {
   "cell_type": "code",
   "execution_count": 146,
   "id": "36718edb",
   "metadata": {},
   "outputs": [
    {
     "data": {
      "text/plain": [
       "14"
      ]
     },
     "execution_count": 146,
     "metadata": {},
     "output_type": "execute_result"
    }
   ],
   "source": [
    "ranarr.min()"
   ]
  },
  {
   "cell_type": "code",
   "execution_count": 151,
   "id": "97a559b5",
   "metadata": {},
   "outputs": [
    {
     "data": {
      "text/plain": [
       "3"
      ]
     },
     "execution_count": 151,
     "metadata": {},
     "output_type": "execute_result"
    }
   ],
   "source": [
    "ranarr.argmax()"
   ]
  },
  {
   "cell_type": "code",
   "execution_count": 152,
   "id": "37ed39c5",
   "metadata": {},
   "outputs": [
    {
     "data": {
      "text/plain": [
       "2"
      ]
     },
     "execution_count": 152,
     "metadata": {},
     "output_type": "execute_result"
    }
   ],
   "source": [
    "ranarr.argmin()"
   ]
  },
  {
   "cell_type": "code",
   "execution_count": 153,
   "id": "b09d424a",
   "metadata": {},
   "outputs": [
    {
     "data": {
      "text/plain": [
       "(25,)"
      ]
     },
     "execution_count": 153,
     "metadata": {},
     "output_type": "execute_result"
    }
   ],
   "source": [
    "arr.shape"
   ]
  },
  {
   "cell_type": "code",
   "execution_count": 156,
   "id": "45027927",
   "metadata": {},
   "outputs": [
    {
     "data": {
      "text/plain": [
       "array([ 0,  1,  2,  3,  4,  5,  6,  7,  8,  9, 10])"
      ]
     },
     "execution_count": 156,
     "metadata": {},
     "output_type": "execute_result"
    }
   ],
   "source": [
    "# array indexing and slicing\n",
    "ar = np.arange(0,11)\n",
    "ar"
   ]
  },
  {
   "cell_type": "code",
   "execution_count": 157,
   "id": "46587889",
   "metadata": {},
   "outputs": [
    {
     "data": {
      "text/plain": [
       "4"
      ]
     },
     "execution_count": 157,
     "metadata": {},
     "output_type": "execute_result"
    }
   ],
   "source": [
    "# indexing\n",
    "ar[4]"
   ]
  },
  {
   "cell_type": "code",
   "execution_count": 159,
   "id": "2e93bc72",
   "metadata": {},
   "outputs": [
    {
     "data": {
      "text/plain": [
       "array([1, 2, 3, 4, 5, 6, 7, 8])"
      ]
     },
     "execution_count": 159,
     "metadata": {},
     "output_type": "execute_result"
    }
   ],
   "source": [
    "# slicing\n",
    "ar[1:9]"
   ]
  },
  {
   "cell_type": "code",
   "execution_count": 162,
   "id": "c1da7cb1",
   "metadata": {},
   "outputs": [
    {
     "data": {
      "text/plain": [
       "array([ 0,  1,  2,  3,  4,  5,  6,  7,  8,  9, 10])"
      ]
     },
     "execution_count": 162,
     "metadata": {},
     "output_type": "execute_result"
    }
   ],
   "source": [
    "# broadcasting :- to replace a particular or range of values in array.Broadcasting affect the original array!\n",
    "a1 = np.arange(0,11)\n",
    "a1"
   ]
  },
  {
   "cell_type": "code",
   "execution_count": 163,
   "id": "88ba42ad",
   "metadata": {},
   "outputs": [
    {
     "data": {
      "text/plain": [
       "array([  0, 100,   2,   3,   4,   5,   6,   7,   8,   9,  10])"
      ]
     },
     "execution_count": 163,
     "metadata": {},
     "output_type": "execute_result"
    }
   ],
   "source": [
    "a1[1] = 100\n",
    "a1"
   ]
  },
  {
   "cell_type": "code",
   "execution_count": 166,
   "id": "caaccf4e",
   "metadata": {},
   "outputs": [
    {
     "data": {
      "text/plain": [
       "array([  0, 100,   2,   3,   4,  11,  11,  11,  11,   9,  10])"
      ]
     },
     "execution_count": 166,
     "metadata": {},
     "output_type": "execute_result"
    }
   ],
   "source": [
    "a1[5:9] = 11\n",
    "a1"
   ]
  },
  {
   "cell_type": "code",
   "execution_count": 169,
   "id": "c61b599d",
   "metadata": {},
   "outputs": [
    {
     "data": {
      "text/plain": [
       "array([ 0,  1,  2, 99, 99, 99, 99, 99,  8,  9, 10])"
      ]
     },
     "execution_count": 169,
     "metadata": {},
     "output_type": "execute_result"
    }
   ],
   "source": [
    "a2 = np.arange(0,11)\n",
    "slice_array = a2[3:8]\n",
    "slice_array[:] = 99\n",
    "a2"
   ]
  },
  {
   "cell_type": "code",
   "execution_count": 171,
   "id": "eb4f2f63",
   "metadata": {},
   "outputs": [
    {
     "data": {
      "text/plain": [
       "array([[ 5, 10, 15],\n",
       "       [20, 25, 30],\n",
       "       [35, 40, 45]])"
      ]
     },
     "execution_count": 171,
     "metadata": {},
     "output_type": "execute_result"
    }
   ],
   "source": [
    "arr_2d = np.array([ [5,10,15],[20,25,30],[35,40,45] ])\n",
    "arr_2d"
   ]
  },
  {
   "cell_type": "code",
   "execution_count": 172,
   "id": "ffb911db",
   "metadata": {},
   "outputs": [
    {
     "data": {
      "text/plain": [
       "30"
      ]
     },
     "execution_count": 172,
     "metadata": {},
     "output_type": "execute_result"
    }
   ],
   "source": [
    "arr_2d[1][2]"
   ]
  },
  {
   "cell_type": "code",
   "execution_count": 173,
   "id": "e8c6ffff",
   "metadata": {},
   "outputs": [
    {
     "data": {
      "text/plain": [
       "40"
      ]
     },
     "execution_count": 173,
     "metadata": {},
     "output_type": "execute_result"
    }
   ],
   "source": [
    "arr_2d[2][1]"
   ]
  },
  {
   "cell_type": "code",
   "execution_count": 176,
   "id": "1d08243e",
   "metadata": {},
   "outputs": [
    {
     "data": {
      "text/plain": [
       "array([[0., 0., 0., 0., 0., 0., 0., 0., 0., 0.],\n",
       "       [0., 0., 0., 0., 0., 0., 0., 0., 0., 0.],\n",
       "       [0., 0., 0., 0., 0., 0., 0., 0., 0., 0.],\n",
       "       [0., 0., 0., 0., 0., 0., 0., 0., 0., 0.],\n",
       "       [0., 0., 0., 0., 0., 0., 0., 0., 0., 0.],\n",
       "       [0., 0., 0., 0., 0., 0., 0., 0., 0., 0.],\n",
       "       [0., 0., 0., 0., 0., 0., 0., 0., 0., 0.],\n",
       "       [0., 0., 0., 0., 0., 0., 0., 0., 0., 0.],\n",
       "       [0., 0., 0., 0., 0., 0., 0., 0., 0., 0.],\n",
       "       [0., 0., 0., 0., 0., 0., 0., 0., 0., 0.]])"
      ]
     },
     "execution_count": 176,
     "metadata": {},
     "output_type": "execute_result"
    }
   ],
   "source": [
    "arr2d = np.zeros((10,10))\n",
    "arr2d"
   ]
  },
  {
   "cell_type": "code",
   "execution_count": 177,
   "id": "fc156d2e",
   "metadata": {},
   "outputs": [
    {
     "data": {
      "text/plain": [
       "10"
      ]
     },
     "execution_count": 177,
     "metadata": {},
     "output_type": "execute_result"
    }
   ],
   "source": [
    "arr_len = arr2d.shape[1]\n",
    "arr_len"
   ]
  },
  {
   "cell_type": "code",
   "execution_count": 179,
   "id": "7ed395b8",
   "metadata": {},
   "outputs": [
    {
     "data": {
      "text/plain": [
       "array([[0., 0., 0., 0., 0., 0., 0., 0., 0., 0.],\n",
       "       [1., 1., 1., 1., 1., 1., 1., 1., 1., 1.],\n",
       "       [2., 2., 2., 2., 2., 2., 2., 2., 2., 2.],\n",
       "       [3., 3., 3., 3., 3., 3., 3., 3., 3., 3.],\n",
       "       [4., 4., 4., 4., 4., 4., 4., 4., 4., 4.],\n",
       "       [5., 5., 5., 5., 5., 5., 5., 5., 5., 5.],\n",
       "       [6., 6., 6., 6., 6., 6., 6., 6., 6., 6.],\n",
       "       [7., 7., 7., 7., 7., 7., 7., 7., 7., 7.],\n",
       "       [8., 8., 8., 8., 8., 8., 8., 8., 8., 8.],\n",
       "       [9., 9., 9., 9., 9., 9., 9., 9., 9., 9.]])"
      ]
     },
     "execution_count": 179,
     "metadata": {},
     "output_type": "execute_result"
    }
   ],
   "source": [
    "for i in range(arr_len):\n",
    "    arr2d[i] = i\n",
    "arr2d   "
   ]
  },
  {
   "cell_type": "code",
   "execution_count": 180,
   "id": "76b82206",
   "metadata": {},
   "outputs": [
    {
     "data": {
      "text/plain": [
       "array([[2., 2., 2., 2., 2., 2., 2., 2., 2., 2.],\n",
       "       [4., 4., 4., 4., 4., 4., 4., 4., 4., 4.],\n",
       "       [6., 6., 6., 6., 6., 6., 6., 6., 6., 6.],\n",
       "       [8., 8., 8., 8., 8., 8., 8., 8., 8., 8.]])"
      ]
     },
     "execution_count": 180,
     "metadata": {},
     "output_type": "execute_result"
    }
   ],
   "source": [
    "# fancy indexing\n",
    "arr2d[[2,4,6,8]]"
   ]
  },
  {
   "cell_type": "code",
   "execution_count": 181,
   "id": "8c61ffe2",
   "metadata": {},
   "outputs": [
    {
     "data": {
      "text/plain": [
       "array([ 1,  2,  3,  4,  5,  6,  7,  8,  9, 10])"
      ]
     },
     "execution_count": 181,
     "metadata": {},
     "output_type": "execute_result"
    }
   ],
   "source": [
    "# conditional selection in array\n",
    "arr = np.arange(1,11)\n",
    "arr"
   ]
  },
  {
   "cell_type": "code",
   "execution_count": 182,
   "id": "c1fcb36d",
   "metadata": {},
   "outputs": [
    {
     "data": {
      "text/plain": [
       "array([False, False, False, False,  True,  True,  True,  True,  True,\n",
       "        True])"
      ]
     },
     "execution_count": 182,
     "metadata": {},
     "output_type": "execute_result"
    }
   ],
   "source": [
    "bool_arr = arr>4\n",
    "bool_arr"
   ]
  },
  {
   "cell_type": "code",
   "execution_count": 183,
   "id": "52d9339b",
   "metadata": {},
   "outputs": [
    {
     "data": {
      "text/plain": [
       "array([ 5,  6,  7,  8,  9, 10])"
      ]
     },
     "execution_count": 183,
     "metadata": {},
     "output_type": "execute_result"
    }
   ],
   "source": [
    "arr[bool_arr]"
   ]
  },
  {
   "cell_type": "code",
   "execution_count": 188,
   "id": "0197d84a",
   "metadata": {},
   "outputs": [
    {
     "data": {
      "text/plain": [
       "array([ 1,  2,  3,  4,  5,  6,  7,  8,  9, 10])"
      ]
     },
     "execution_count": 188,
     "metadata": {},
     "output_type": "execute_result"
    }
   ],
   "source": [
    "a11 = np.arange(1,11)\n",
    "a11"
   ]
  },
  {
   "cell_type": "code",
   "execution_count": 189,
   "id": "38c73d0f",
   "metadata": {},
   "outputs": [
    {
     "data": {
      "text/plain": [
       "array([ 2,  4,  6,  8, 10, 12, 14, 16, 18, 20])"
      ]
     },
     "execution_count": 189,
     "metadata": {},
     "output_type": "execute_result"
    }
   ],
   "source": [
    "# array addition\n",
    "a11 + a11"
   ]
  },
  {
   "cell_type": "code",
   "execution_count": 190,
   "id": "8545d054",
   "metadata": {},
   "outputs": [
    {
     "data": {
      "text/plain": [
       "array([0, 0, 0, 0, 0, 0, 0, 0, 0, 0])"
      ]
     },
     "execution_count": 190,
     "metadata": {},
     "output_type": "execute_result"
    }
   ],
   "source": [
    "# array substraction\n",
    "a11 - a11"
   ]
  },
  {
   "cell_type": "code",
   "execution_count": 191,
   "id": "767aed95",
   "metadata": {},
   "outputs": [
    {
     "data": {
      "text/plain": [
       "array([1., 1., 1., 1., 1., 1., 1., 1., 1., 1.])"
      ]
     },
     "execution_count": 191,
     "metadata": {},
     "output_type": "execute_result"
    }
   ],
   "source": [
    "# array division\n",
    "a11 / a11"
   ]
  },
  {
   "cell_type": "code",
   "execution_count": 192,
   "id": "5f54bcab",
   "metadata": {},
   "outputs": [
    {
     "data": {
      "text/plain": [
       "array([1.        , 0.5       , 0.33333333, 0.25      , 0.2       ,\n",
       "       0.16666667, 0.14285714, 0.125     , 0.11111111, 0.1       ])"
      ]
     },
     "execution_count": 192,
     "metadata": {},
     "output_type": "execute_result"
    }
   ],
   "source": [
    "1 / a11"
   ]
  },
  {
   "cell_type": "code",
   "execution_count": 14,
   "id": "92fb59ae",
   "metadata": {},
   "outputs": [
    {
     "name": "stdout",
     "output_type": "stream",
     "text": [
      "332833500\n",
      "[[     0      0      0 ...      0      0      0]\n",
      " [     0      1      2 ...    997    998    999]\n",
      " [     0      2      4 ...   1994   1996   1998]\n",
      " ...\n",
      " [     0    997   1994 ... 994009 995006 996003]\n",
      " [     0    998   1996 ... 995006 996004 997002]\n",
      " [     0    999   1998 ... 996003 997002 998001]]\n",
      "[     0      1      4      9     16     25     36     49     64     81\n",
      "    100    121    144    169    196    225    256    289    324    361\n",
      "    400    441    484    529    576    625    676    729    784    841\n",
      "    900    961   1024   1089   1156   1225   1296   1369   1444   1521\n",
      "   1600   1681   1764   1849   1936   2025   2116   2209   2304   2401\n",
      "   2500   2601   2704   2809   2916   3025   3136   3249   3364   3481\n",
      "   3600   3721   3844   3969   4096   4225   4356   4489   4624   4761\n",
      "   4900   5041   5184   5329   5476   5625   5776   5929   6084   6241\n",
      "   6400   6561   6724   6889   7056   7225   7396   7569   7744   7921\n",
      "   8100   8281   8464   8649   8836   9025   9216   9409   9604   9801\n",
      "  10000  10201  10404  10609  10816  11025  11236  11449  11664  11881\n",
      "  12100  12321  12544  12769  12996  13225  13456  13689  13924  14161\n",
      "  14400  14641  14884  15129  15376  15625  15876  16129  16384  16641\n",
      "  16900  17161  17424  17689  17956  18225  18496  18769  19044  19321\n",
      "  19600  19881  20164  20449  20736  21025  21316  21609  21904  22201\n",
      "  22500  22801  23104  23409  23716  24025  24336  24649  24964  25281\n",
      "  25600  25921  26244  26569  26896  27225  27556  27889  28224  28561\n",
      "  28900  29241  29584  29929  30276  30625  30976  31329  31684  32041\n",
      "  32400  32761  33124  33489  33856  34225  34596  34969  35344  35721\n",
      "  36100  36481  36864  37249  37636  38025  38416  38809  39204  39601\n",
      "  40000  40401  40804  41209  41616  42025  42436  42849  43264  43681\n",
      "  44100  44521  44944  45369  45796  46225  46656  47089  47524  47961\n",
      "  48400  48841  49284  49729  50176  50625  51076  51529  51984  52441\n",
      "  52900  53361  53824  54289  54756  55225  55696  56169  56644  57121\n",
      "  57600  58081  58564  59049  59536  60025  60516  61009  61504  62001\n",
      "  62500  63001  63504  64009  64516  65025  65536  66049  66564  67081\n",
      "  67600  68121  68644  69169  69696  70225  70756  71289  71824  72361\n",
      "  72900  73441  73984  74529  75076  75625  76176  76729  77284  77841\n",
      "  78400  78961  79524  80089  80656  81225  81796  82369  82944  83521\n",
      "  84100  84681  85264  85849  86436  87025  87616  88209  88804  89401\n",
      "  90000  90601  91204  91809  92416  93025  93636  94249  94864  95481\n",
      "  96100  96721  97344  97969  98596  99225  99856 100489 101124 101761\n",
      " 102400 103041 103684 104329 104976 105625 106276 106929 107584 108241\n",
      " 108900 109561 110224 110889 111556 112225 112896 113569 114244 114921\n",
      " 115600 116281 116964 117649 118336 119025 119716 120409 121104 121801\n",
      " 122500 123201 123904 124609 125316 126025 126736 127449 128164 128881\n",
      " 129600 130321 131044 131769 132496 133225 133956 134689 135424 136161\n",
      " 136900 137641 138384 139129 139876 140625 141376 142129 142884 143641\n",
      " 144400 145161 145924 146689 147456 148225 148996 149769 150544 151321\n",
      " 152100 152881 153664 154449 155236 156025 156816 157609 158404 159201\n",
      " 160000 160801 161604 162409 163216 164025 164836 165649 166464 167281\n",
      " 168100 168921 169744 170569 171396 172225 173056 173889 174724 175561\n",
      " 176400 177241 178084 178929 179776 180625 181476 182329 183184 184041\n",
      " 184900 185761 186624 187489 188356 189225 190096 190969 191844 192721\n",
      " 193600 194481 195364 196249 197136 198025 198916 199809 200704 201601\n",
      " 202500 203401 204304 205209 206116 207025 207936 208849 209764 210681\n",
      " 211600 212521 213444 214369 215296 216225 217156 218089 219024 219961\n",
      " 220900 221841 222784 223729 224676 225625 226576 227529 228484 229441\n",
      " 230400 231361 232324 233289 234256 235225 236196 237169 238144 239121\n",
      " 240100 241081 242064 243049 244036 245025 246016 247009 248004 249001\n",
      " 250000 251001 252004 253009 254016 255025 256036 257049 258064 259081\n",
      " 260100 261121 262144 263169 264196 265225 266256 267289 268324 269361\n",
      " 270400 271441 272484 273529 274576 275625 276676 277729 278784 279841\n",
      " 280900 281961 283024 284089 285156 286225 287296 288369 289444 290521\n",
      " 291600 292681 293764 294849 295936 297025 298116 299209 300304 301401\n",
      " 302500 303601 304704 305809 306916 308025 309136 310249 311364 312481\n",
      " 313600 314721 315844 316969 318096 319225 320356 321489 322624 323761\n",
      " 324900 326041 327184 328329 329476 330625 331776 332929 334084 335241\n",
      " 336400 337561 338724 339889 341056 342225 343396 344569 345744 346921\n",
      " 348100 349281 350464 351649 352836 354025 355216 356409 357604 358801\n",
      " 360000 361201 362404 363609 364816 366025 367236 368449 369664 370881\n",
      " 372100 373321 374544 375769 376996 378225 379456 380689 381924 383161\n",
      " 384400 385641 386884 388129 389376 390625 391876 393129 394384 395641\n",
      " 396900 398161 399424 400689 401956 403225 404496 405769 407044 408321\n",
      " 409600 410881 412164 413449 414736 416025 417316 418609 419904 421201\n",
      " 422500 423801 425104 426409 427716 429025 430336 431649 432964 434281\n",
      " 435600 436921 438244 439569 440896 442225 443556 444889 446224 447561\n",
      " 448900 450241 451584 452929 454276 455625 456976 458329 459684 461041\n",
      " 462400 463761 465124 466489 467856 469225 470596 471969 473344 474721\n",
      " 476100 477481 478864 480249 481636 483025 484416 485809 487204 488601\n",
      " 490000 491401 492804 494209 495616 497025 498436 499849 501264 502681\n",
      " 504100 505521 506944 508369 509796 511225 512656 514089 515524 516961\n",
      " 518400 519841 521284 522729 524176 525625 527076 528529 529984 531441\n",
      " 532900 534361 535824 537289 538756 540225 541696 543169 544644 546121\n",
      " 547600 549081 550564 552049 553536 555025 556516 558009 559504 561001\n",
      " 562500 564001 565504 567009 568516 570025 571536 573049 574564 576081\n",
      " 577600 579121 580644 582169 583696 585225 586756 588289 589824 591361\n",
      " 592900 594441 595984 597529 599076 600625 602176 603729 605284 606841\n",
      " 608400 609961 611524 613089 614656 616225 617796 619369 620944 622521\n",
      " 624100 625681 627264 628849 630436 632025 633616 635209 636804 638401\n",
      " 640000 641601 643204 644809 646416 648025 649636 651249 652864 654481\n",
      " 656100 657721 659344 660969 662596 664225 665856 667489 669124 670761\n",
      " 672400 674041 675684 677329 678976 680625 682276 683929 685584 687241\n",
      " 688900 690561 692224 693889 695556 697225 698896 700569 702244 703921\n",
      " 705600 707281 708964 710649 712336 714025 715716 717409 719104 720801\n",
      " 722500 724201 725904 727609 729316 731025 732736 734449 736164 737881\n",
      " 739600 741321 743044 744769 746496 748225 749956 751689 753424 755161\n",
      " 756900 758641 760384 762129 763876 765625 767376 769129 770884 772641\n",
      " 774400 776161 777924 779689 781456 783225 784996 786769 788544 790321\n",
      " 792100 793881 795664 797449 799236 801025 802816 804609 806404 808201\n",
      " 810000 811801 813604 815409 817216 819025 820836 822649 824464 826281\n",
      " 828100 829921 831744 833569 835396 837225 839056 840889 842724 844561\n",
      " 846400 848241 850084 851929 853776 855625 857476 859329 861184 863041\n",
      " 864900 866761 868624 870489 872356 874225 876096 877969 879844 881721\n",
      " 883600 885481 887364 889249 891136 893025 894916 896809 898704 900601\n",
      " 902500 904401 906304 908209 910116 912025 913936 915849 917764 919681\n",
      " 921600 923521 925444 927369 929296 931225 933156 935089 937024 938961\n",
      " 940900 942841 944784 946729 948676 950625 952576 954529 956484 958441\n",
      " 960400 962361 964324 966289 968256 970225 972196 974169 976144 978121\n",
      " 980100 982081 984064 986049 988036 990025 992016 994009 996004 998001]\n"
     ]
    }
   ],
   "source": [
    "a = np.arange(1000)\n",
    "b = np.arange(1000)\n",
    "dp = np.dot(a,b)\n",
    "print(dp)\n",
    "op = np.outer(a,b)\n",
    "print(op)\n",
    "ep = np.multiply(a,b)\n",
    "print(ep)"
   ]
  }
 ],
 "metadata": {
  "kernelspec": {
   "display_name": "Python 3 (ipykernel)",
   "language": "python",
   "name": "python3"
  },
  "language_info": {
   "codemirror_mode": {
    "name": "ipython",
    "version": 3
   },
   "file_extension": ".py",
   "mimetype": "text/x-python",
   "name": "python",
   "nbconvert_exporter": "python",
   "pygments_lexer": "ipython3",
   "version": "3.10.6"
  }
 },
 "nbformat": 4,
 "nbformat_minor": 5
}
