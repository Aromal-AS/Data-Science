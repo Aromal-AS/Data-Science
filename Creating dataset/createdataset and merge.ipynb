{
 "cells": [
  {
   "cell_type": "code",
   "execution_count": 2,
   "id": "01a7a266",
   "metadata": {},
   "outputs": [],
   "source": [
    "import pandas as pd"
   ]
  },
  {
   "cell_type": "code",
   "execution_count": 3,
   "id": "555f5b0c",
   "metadata": {},
   "outputs": [
    {
     "name": "stdout",
     "output_type": "stream",
     "text": [
      "   Customers  Gender  Age  Annual Income($)  Spending Score\n",
      "0          1    Male   20                10              30\n",
      "1          2  Female   21                20              50\n",
      "2          3  Female   19                30              48\n",
      "3          4    Male   18                10              84\n",
      "4          5    Male   25                25              90\n",
      "5          6  Female   26                60              65\n",
      "6          7    Male   32                70              32\n",
      "7          8    Male   41                15              46\n",
      "8          9  Female   10                21              12\n",
      "9         10    Male   19                22              56\n"
     ]
    }
   ],
   "source": [
    "#Crate dataset from given dict details and display it\n",
    "\n",
    "data_dict={'Customers':[1,2,3,4,5,6,7,8,9,10],'Gender':['Male','Female','Female','Male','Male','Female','Male','Male','Female','Male'],'Age':[20,21,19,18,25,26,32,41,10,19],'Annual Income($)':[10,20,30,10,25,60,70,15,21,22],'Spending Score':[30,50,48,84,90,65,32,46,12,56]}\n",
    "data=pd.DataFrame(data_dict)\n",
    "data.to_csv(\"Customer.csv\")\n",
    "print(data)"
   ]
  },
  {
   "cell_type": "code",
   "execution_count": 4,
   "id": "f1e749ac",
   "metadata": {},
   "outputs": [
    {
     "name": "stdout",
     "output_type": "stream",
     "text": [
      "   Customers ID  Gender  Age  Annual Income($)  Spending Score\n",
      "0             1    Male   20                10              30\n",
      "1             2  Female   21                20              50\n",
      "2             3  Female   19                30              48\n",
      "3             4    Male   18                10              84\n",
      "4             5    Male   25                25              90\n",
      "5             6  Female   26                60              65\n",
      "6             7    Male   32                70              32\n",
      "7             8    Male   41                15              46\n",
      "8             9  Female   10                21              12\n",
      "9            10    Male   19                22              56\n",
      "\n",
      "   Customers ID  Gender  Age  Annual Income($)  Spending Score\n",
      "0            11    Male   23                10              38\n",
      "1            12  Female   33                20              59\n",
      "2            13  Female   19                30              48\n",
      "3            14    Male   18                10              99\n",
      "4            15    Male   25                25              94\n",
      "5            16  Female   26                60              66\n",
      "6            17    Male   32                70              44\n",
      "7            18    Male   41                15              51\n",
      "8            19  Female   20                21              12\n",
      "9            20    Male   19                22              56\n"
     ]
    }
   ],
   "source": [
    "data_dict={'Customers ID':[1,2,3,4,5,6,7,8,9,10],'Gender':['Male','Female','Female','Male','Male','Female','Male','Male','Female','Male'],'Age':[20,21,19,18,25,26,32,41,10,19],'Annual Income($)':[10,20,30,10,25,60,70,15,21,22],'Spending Score':[30,50,48,84,90,65,32,46,12,56]}\n",
    "data1=pd.DataFrame(data_dict)\n",
    "data1.to_csv(\"Customer1.csv\")\n",
    "print(data1)\n",
    "print()\n",
    "data_dict2={'Customers ID':[11,12,13,14,15,16,17,18,19,20],'Gender':['Male','Female','Female','Male','Male','Female','Male','Male','Female','Male'],'Age':[23,33,19,18,25,26,32,41,20,19],'Annual Income($)':[10,20,30,10,25,60,70,15,21,22],'Spending Score':[38,59,48,99,94,66,44,51,12,56]}\n",
    "data2=pd.DataFrame(data_dict2)\n",
    "data1.to_csv(\"Customer2.csv\")\n",
    "print(data2)"
   ]
  },
  {
   "cell_type": "code",
   "execution_count": 8,
   "id": "6e977864",
   "metadata": {},
   "outputs": [
    {
     "name": "stdout",
     "output_type": "stream",
     "text": [
      "    Unnamed: 0  Customers ID  Gender  Age  Annual Income($)  Spending Score\n",
      "0            0             1    Male   20                10              30\n",
      "1            1             2  Female   21                20              50\n",
      "2            2             3  Female   19                30              48\n",
      "3            3             4    Male   18                10              84\n",
      "4            4             5    Male   25                25              90\n",
      "5            5             6  Female   26                60              65\n",
      "6            6             7    Male   32                70              32\n",
      "7            7             8    Male   41                15              46\n",
      "8            8             9  Female   10                21              12\n",
      "9            9            10    Male   19                22              56\n",
      "10           0             1    Male   20                10              30\n",
      "11           1             2  Female   21                20              50\n",
      "12           2             3  Female   19                30              48\n",
      "13           3             4    Male   18                10              84\n",
      "14           4             5    Male   25                25              90\n",
      "15           5             6  Female   26                60              65\n",
      "16           6             7    Male   32                70              32\n",
      "17           7             8    Male   41                15              46\n",
      "18           8             9  Female   10                21              12\n",
      "19           9            10    Male   19                22              56\n"
     ]
    }
   ],
   "source": [
    "df = pd.concat(map(pd.read_csv,['Customer1.csv','Customer2.csv']),ignore_index=True)\n",
    "print(df)"
   ]
  }
 ],
 "metadata": {
  "kernelspec": {
   "display_name": "Python 3 (ipykernel)",
   "language": "python",
   "name": "python3"
  },
  "language_info": {
   "codemirror_mode": {
    "name": "ipython",
    "version": 3
   },
   "file_extension": ".py",
   "mimetype": "text/x-python",
   "name": "python",
   "nbconvert_exporter": "python",
   "pygments_lexer": "ipython3",
   "version": "3.10.6"
  }
 },
 "nbformat": 4,
 "nbformat_minor": 5
}
